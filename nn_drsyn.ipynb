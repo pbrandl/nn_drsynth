{
  "nbformat": 4,
  "nbformat_minor": 0,
  "metadata": {
    "colab": {
      "name": "nn_drsyn.ipynb",
      "provenance": [],
      "collapsed_sections": [],
      "authorship_tag": "ABX9TyOGZYlsWahPJzvp9IivwWOb",
      "include_colab_link": true
    },
    "kernelspec": {
      "name": "python3",
      "display_name": "Python 3"
    },
    "language_info": {
      "name": "python"
    },
    "accelerator": "GPU"
  },
  "cells": [
    {
      "cell_type": "markdown",
      "metadata": {
        "id": "view-in-github",
        "colab_type": "text"
      },
      "source": [
        "<a href=\"https://colab.research.google.com/github/pbrandl/nn_drsynth/blob/main/nn_drsyn.ipynb\" target=\"_parent\"><img src=\"https://colab.research.google.com/assets/colab-badge.svg\" alt=\"Open In Colab\"/></a>"
      ]
    },
    {
      "cell_type": "code",
      "metadata": {
        "colab": {
          "base_uri": "https://localhost:8080/"
        },
        "id": "L1oWyB94A5nN",
        "outputId": "81b66dac-64bb-46fc-eba8-adacc8b633a9"
      },
      "source": [
        "!pip install -q dm-haiku optax"
      ],
      "execution_count": 1,
      "outputs": [
        {
          "output_type": "stream",
          "text": [
            "\u001b[?25l\r\u001b[K     |█▏                              | 10kB 19.8MB/s eta 0:00:01\r\u001b[K     |██▎                             | 20kB 23.1MB/s eta 0:00:01\r\u001b[K     |███▌                            | 30kB 17.0MB/s eta 0:00:01\r\u001b[K     |████▋                           | 40kB 15.0MB/s eta 0:00:01\r\u001b[K     |█████▊                          | 51kB 7.9MB/s eta 0:00:01\r\u001b[K     |███████                         | 61kB 7.4MB/s eta 0:00:01\r\u001b[K     |████████                        | 71kB 8.4MB/s eta 0:00:01\r\u001b[K     |█████████▏                      | 81kB 9.3MB/s eta 0:00:01\r\u001b[K     |██████████▍                     | 92kB 8.7MB/s eta 0:00:01\r\u001b[K     |███████████▌                    | 102kB 7.4MB/s eta 0:00:01\r\u001b[K     |████████████▊                   | 112kB 7.4MB/s eta 0:00:01\r\u001b[K     |█████████████▉                  | 122kB 7.4MB/s eta 0:00:01\r\u001b[K     |███████████████                 | 133kB 7.4MB/s eta 0:00:01\r\u001b[K     |████████████████▏               | 143kB 7.4MB/s eta 0:00:01\r\u001b[K     |█████████████████▎              | 153kB 7.4MB/s eta 0:00:01\r\u001b[K     |██████████████████▍             | 163kB 7.4MB/s eta 0:00:01\r\u001b[K     |███████████████████▋            | 174kB 7.4MB/s eta 0:00:01\r\u001b[K     |████████████████████▊           | 184kB 7.4MB/s eta 0:00:01\r\u001b[K     |█████████████████████▉          | 194kB 7.4MB/s eta 0:00:01\r\u001b[K     |███████████████████████         | 204kB 7.4MB/s eta 0:00:01\r\u001b[K     |████████████████████████▏       | 215kB 7.4MB/s eta 0:00:01\r\u001b[K     |█████████████████████████▍      | 225kB 7.4MB/s eta 0:00:01\r\u001b[K     |██████████████████████████▌     | 235kB 7.4MB/s eta 0:00:01\r\u001b[K     |███████████████████████████▋    | 245kB 7.4MB/s eta 0:00:01\r\u001b[K     |████████████████████████████▉   | 256kB 7.4MB/s eta 0:00:01\r\u001b[K     |██████████████████████████████  | 266kB 7.4MB/s eta 0:00:01\r\u001b[K     |███████████████████████████████ | 276kB 7.4MB/s eta 0:00:01\r\u001b[K     |████████████████████████████████| 286kB 7.4MB/s \n",
            "\u001b[K     |████████████████████████████████| 122kB 12.5MB/s \n",
            "\u001b[K     |████████████████████████████████| 61kB 8.3MB/s \n",
            "\u001b[?25h"
          ],
          "name": "stdout"
        }
      ]
    },
    {
      "cell_type": "code",
      "metadata": {
        "colab": {
          "base_uri": "https://localhost:8080/"
        },
        "id": "cgXnvfOHvkYx",
        "outputId": "05830f15-3c6a-49b6-bb63-c6cfc3b7d6dc"
      },
      "source": [
        "import jax\n",
        "import haiku as hk\n",
        "import jax.numpy as jnp\n",
        "import pickle\n",
        "from google.colab import drive\n",
        "\n",
        "from typing import Generator, Mapping, Tuple, NamedTuple, Sequence\n",
        "\n",
        "random_key = jax.random.PRNGKey(0)\n",
        "\n",
        "# Set Working Directories\n",
        "drive.mount('/content/drive')\n",
        "project_path = '/content/drive/My Drive/nn_drum'\n",
        "dataset_path = '/content/drive/My Drive/nn_drum/snares_tensor.db'\n",
        "print(\"Working in {}.\".format(project_path))\n",
        "\n",
        "\n"
      ],
      "execution_count": 3,
      "outputs": [
        {
          "output_type": "stream",
          "text": [
            "Drive already mounted at /content/drive; to attempt to forcibly remount, call drive.mount(\"/content/drive\", force_remount=True).\n",
            "Working in /content/drive/My Drive/nn_drum.\n"
          ],
          "name": "stdout"
        }
      ]
    },
    {
      "cell_type": "code",
      "metadata": {
        "id": "YA9_KpkGwO7m"
      },
      "source": [
        "def load_dataset(path):\n",
        "    with open(path, 'rb') as file:\n",
        "        return pickle.load(file)\n",
        "\n",
        "dataset = load_dataset(dataset_path)\n"
      ],
      "execution_count": 4,
      "outputs": []
    },
    {
      "cell_type": "code",
      "metadata": {
        "id": "EzYpQDSV84vM"
      },
      "source": [
        "output_shape = 44100//3\n",
        "\n",
        "class Encoder(hk.Module):\n",
        "  \"\"\"Encoder model.\"\"\"\n",
        "\n",
        "  def __init__(self, hidden_size: int = 2**12, latent_size: int = 512):\n",
        "    super().__init__()\n",
        "    self._hidden_size = hidden_size\n",
        "    self._latent_size = latent_size\n",
        "\n",
        "  def __call__(self, x: jnp.ndarray) -> Tuple[jnp.ndarray, jnp.ndarray]:\n",
        "    x = hk.Flatten()(x)\n",
        "    x = hk.Linear(self._hidden_size)(x)\n",
        "    x = jax.nn.relu(x)\n",
        "\n",
        "    mean = hk.Linear(self._latent_size)(x)\n",
        "    log_stddev = hk.Linear(self._latent_size)(x)\n",
        "    stddev = jnp.exp(log_stddev)\n",
        "\n",
        "    return mean, stddev\n",
        "\n",
        "\n",
        "class Decoder(hk.Module):\n",
        "  \"\"\"Decoder model.\"\"\"\n",
        "\n",
        "  def __init__(self, hidden_size: int = 2**12, output_shape: Sequence[int] = output_shape):\n",
        "    super().__init__()\n",
        "    self._hidden_size = hidden_size\n",
        "    self._output_shape = output_shape\n",
        "\n",
        "  def __call__(self, z: jnp.ndarray) -> jnp.ndarray:\n",
        "    z = hk.Linear(self._hidden_size)(z)\n",
        "    z = jax.nn.relu(z)\n",
        "\n",
        "    logits = hk.Linear(np.prod(self._output_shape))(z)\n",
        "    logits = jnp.reshape(logits, (-1, *self._output_shape))\n",
        "\n",
        "    return logits"
      ],
      "execution_count": 5,
      "outputs": []
    },
    {
      "cell_type": "code",
      "metadata": {
        "id": "55VMaHoQ1dlP"
      },
      "source": [
        "class VariationalAutoEncoder(hk.Module):\n",
        "    def __init__(encoder: hk.Module, decoder: hk.Module):\n",
        "        self.encoder = encoder\n",
        "        self.decoder = decoder\n",
        "    \n",
        "    def __call__(self, x: jnp.ndarray):\n",
        "        x = x.astype(jnp.float32)\n",
        "        mean, stddev = Encoder(self._hidden_size, self._latent_size)(x)\n",
        "        z = mean + stddev * jax.random.normal(hk.next_rng_key(), mean.shape)\n",
        "        logits = Decoder(self._hidden_size, self._output_shape)(z)\n",
        "\n",
        "        p = jax.nn.sigmoid(logits)\n",
        "\n",
        "        return mean, stddev, logits"
      ],
      "execution_count": 8,
      "outputs": []
    },
    {
      "cell_type": "code",
      "metadata": {
        "id": "bResEy5wAnag"
      },
      "source": [
        ""
      ],
      "execution_count": null,
      "outputs": []
    }
  ]
}